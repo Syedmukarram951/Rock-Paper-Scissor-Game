{
 "cells": [
  {
   "cell_type": "markdown",
   "id": "6af871f4",
   "metadata": {},
   "source": [
    "### Importing Libraries ###"
   ]
  },
  {
   "cell_type": "code",
   "execution_count": 1,
   "id": "58120aef",
   "metadata": {},
   "outputs": [],
   "source": [
    "from tkinter import *\n",
    "import random"
   ]
  },
  {
   "cell_type": "markdown",
   "id": "de146dbd",
   "metadata": {},
   "source": [
    "### Initialize Window ###"
   ]
  },
  {
   "cell_type": "markdown",
   "id": "3ddddda4",
   "metadata": {},
   "source": [
    "root = Tk()\n",
    "root.geometry('400x400')\n",
    "root.resizable(0,0)\n",
    "root.title('DataFlair-Rock,Paper,Scissors')\n",
    "root.config(bg ='seashell3')"
   ]
  },
  {
   "cell_type": "markdown",
   "id": "159f3a4f",
   "metadata": {},
   "source": [
    "### For User Choice ###"
   ]
  },
  {
   "cell_type": "code",
   "execution_count": 3,
   "id": "69506289",
   "metadata": {},
   "outputs": [],
   "source": [
    "user_take = StringVar()\n",
    "Label(root, text = 'choose any one: rock, paper ,scissors' , font='arial 15 bold', bg = 'seashell2').place(x = 20,y=70)\n",
    "Entry(root, font = 'arial 15', textvariable = user_take , bg = 'antiquewhite2').place(x=90 , y = 130)"
   ]
  },
  {
   "cell_type": "markdown",
   "id": "4c6936e4",
   "metadata": {},
   "source": [
    "### For Computer Choice ###"
   ]
  },
  {
   "cell_type": "code",
   "execution_count": 4,
   "id": "246a31f0",
   "metadata": {},
   "outputs": [],
   "source": [
    "comp_pick = random.randint(1,3)\n",
    "if comp_pick == 1:\n",
    "    comp_pick = 'rock'\n",
    "elif comp_pick ==2:\n",
    "    comp_pick = 'paper'\n",
    "else:\n",
    "    comp_pick = 'scissors'"
   ]
  },
  {
   "cell_type": "markdown",
   "id": "e13f0356",
   "metadata": {},
   "source": [
    "### Function to Start Game ###"
   ]
  },
  {
   "cell_type": "code",
   "execution_count": 5,
   "id": "430020a4",
   "metadata": {},
   "outputs": [],
   "source": [
    "Result = StringVar()\n",
    "def play():\n",
    "    user_pick = user_take.get()\n",
    "    if user_pick == comp_pick:\n",
    "        Result.set('tie,you both select same')\n",
    "    elif user_pick == 'rock' and comp_pick == 'paper':\n",
    "        Result.set('you loose,computer select paper')\n",
    "    elif user_pick == 'rock' and comp_pick == 'scissors':\n",
    "        Result.set('you win,computer select scissors')\n",
    "    elif user_pick == 'paper' and comp_pick == 'scissors':\n",
    "        Result.set('you loose,computer select scissors')\n",
    "    elif user_pick == 'paper' and comp_pick == 'rock':\n",
    "        Result.set('you win,computer select rock')\n",
    "    elif user_pick == 'scissors' and comp_pick == 'rock':\n",
    "        Result.set('you loose,computer select rock')\n",
    "    elif user_pick == 'scissors' and comp_pick == 'paper':\n",
    "        Result.set('you win ,computer select paper')\n",
    "    else:\n",
    "        Result.set('invalid: choose any one -- rock, paper, scissors')"
   ]
  },
  {
   "cell_type": "markdown",
   "id": "e3826801",
   "metadata": {},
   "source": [
    "###  Function to Reset ###"
   ]
  },
  {
   "cell_type": "code",
   "execution_count": 6,
   "id": "efab09d7",
   "metadata": {},
   "outputs": [],
   "source": [
    "def Reset():\n",
    "    Result.set(\"\") \n",
    "    user_take.set(\"\")"
   ]
  },
  {
   "cell_type": "markdown",
   "id": "b1da5b8c",
   "metadata": {},
   "source": [
    "### Function to Exit ###"
   ]
  },
  {
   "cell_type": "code",
   "execution_count": 7,
   "id": "c5a849da",
   "metadata": {},
   "outputs": [],
   "source": [
    "def Exit():\n",
    "    root.destroy()"
   ]
  },
  {
   "cell_type": "markdown",
   "id": "b8a84b65",
   "metadata": {},
   "source": [
    "### Defyning Buttons ###"
   ]
  },
  {
   "cell_type": "code",
   "execution_count": 8,
   "id": "ed55c046",
   "metadata": {},
   "outputs": [],
   "source": [
    "Entry(root, font = 'arial 10 bold', textvariable = Result, bg ='antiquewhite2',width = 50,).place(x=25, y = 250)\n",
    "Button(root, font = 'arial 13 bold', text = 'PLAY'  ,padx =5,bg ='seashell4' ,command = play).place(x=150,y=190)\n",
    "Button(root, font = 'arial 13 bold', text = 'RESET'  ,padx =5,bg ='seashell4' ,command = Reset).place(x=70,y=310)\n",
    "Button(root, font = 'arial 13 bold', text = 'EXIT'  ,padx =5,bg ='seashell4' ,command = Exit).place(x=230,y=310)\n",
    "root.mainloop()"
   ]
  },
  {
   "cell_type": "code",
   "execution_count": null,
   "id": "7db543ef",
   "metadata": {},
   "outputs": [],
   "source": []
  },
  {
   "cell_type": "code",
   "execution_count": null,
   "id": "46c47118",
   "metadata": {},
   "outputs": [],
   "source": []
  }
 ],
 "metadata": {
  "kernelspec": {
   "display_name": "Python 3",
   "language": "python",
   "name": "python3"
  },
  "language_info": {
   "codemirror_mode": {
    "name": "ipython",
    "version": 3
   },
   "file_extension": ".py",
   "mimetype": "text/x-python",
   "name": "python",
   "nbconvert_exporter": "python",
   "pygments_lexer": "ipython3",
   "version": "3.9.1"
  }
 },
 "nbformat": 4,
 "nbformat_minor": 5
}
